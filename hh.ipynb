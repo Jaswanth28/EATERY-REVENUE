{
 "cells": [
  {
   "cell_type": "code",
   "execution_count": 1,
   "metadata": {},
   "outputs": [],
   "source": [
    "from PyQt5 import uic,QtWidgets,QtGui\n",
    "import pandas as pd\n",
    "from PyQt5.QtWidgets import * \n",
    "import sys\n",
    "import csv"
   ]
  },
  {
   "cell_type": "code",
   "execution_count": 2,
   "metadata": {},
   "outputs": [],
   "source": [
    "def v(x1,x2,x3):\n",
    "\n",
    "    if x3 == \"In line\":\n",
    "        x3 = \"IL\"\n",
    "    elif x3 == \"Food Court\":\n",
    "        x3 = \"FC\"\n",
    "    elif x3 == \"Mobile\":\n",
    "        x3 = \"MB\"\n",
    "    else:\n",
    "        x3 = \"DT\"\n",
    "\n",
    "    id = \"\"\n",
    "    if x1 and x3 and x2:\n",
    "        with open('csv/test.csv', 'r') as f:\n",
    "            reader = csv.reader(f)\n",
    "            for data in reader:\n",
    "                if data[2] == x1 and data[4] == x3 and data[3] == x2:\n",
    "                    id = data[0]\n",
    "                    break\n",
    "        if id:\n",
    "            with open('csv/revenue.csv', 'r') as f:\n",
    "                reader = csv.reader(f)\n",
    "                for data in reader:\n",
    "                    if data[0] == id:\n",
    "                        value = data[1]\n",
    "                        o=(f'Approximate Annual Revenue is :{value}')\n",
    "                        m.res.setText(o)\n",
    "                        break\n",
    "        else:\n",
    "            m.res.setText(\"No results found\")\n"
   ]
  },
  {
   "cell_type": "code",
   "execution_count": 3,
   "metadata": {},
   "outputs": [],
   "source": [
    "def ll():\n",
    "    m.res.clear()\n",
    "    x1=m.loc.currentText()\n",
    "    x2=m.ct.currentText()\n",
    "    x3=m.rt.currentText()\n",
    "    if(m.loc.currentIndex()==0 & m.ct.currentIndex()==0 & m.rt.currentIndex()==0):\n",
    "        m.res.setText(\"enter valid inputs\")\n",
    "    else:\n",
    "        v(x1,x2,x3)"
   ]
  },
  {
   "cell_type": "code",
   "execution_count": 4,
   "metadata": {},
   "outputs": [
    {
     "ename": "SystemExit",
     "evalue": "0",
     "output_type": "error",
     "traceback": [
      "An exception has occurred, use %tb to see the full traceback.\n",
      "\u001b[1;31mSystemExit\u001b[0m\u001b[1;31m:\u001b[0m 0\n"
     ]
    },
    {
     "name": "stderr",
     "output_type": "stream",
     "text": [
      "C:\\Users\\Jaswanth\\AppData\\Roaming\\Python\\Python310\\site-packages\\IPython\\core\\interactiveshell.py:3513: UserWarning: To exit: use 'exit', 'quit', or Ctrl-D.\n",
      "  warn(\"To exit: use 'exit', 'quit', or Ctrl-D.\", stacklevel=1)\n"
     ]
    }
   ],
   "source": [
    "j=QtWidgets.QApplication([])\n",
    "r=0\n",
    "m=uic.loadUi('ut1.ui')\n",
    "m.show()\n",
    "m.setStyleSheet(\"#centralwidget{background-image:url(bg1.jpg);}\")\n",
    "m.setWindowTitle('Home')\n",
    "m.pred.clicked.connect(ll)\n",
    "sys.exit(j.exec_())"
   ]
  },
  {
   "cell_type": "code",
   "execution_count": null,
   "metadata": {},
   "outputs": [],
   "source": []
  }
 ],
 "metadata": {
  "kernelspec": {
   "display_name": "Python 3",
   "language": "python",
   "name": "python3"
  },
  "language_info": {
   "codemirror_mode": {
    "name": "ipython",
    "version": 3
   },
   "file_extension": ".py",
   "mimetype": "text/x-python",
   "name": "python",
   "nbconvert_exporter": "python",
   "pygments_lexer": "ipython3",
   "version": "3.10.6"
  },
  "orig_nbformat": 4
 },
 "nbformat": 4,
 "nbformat_minor": 2
}
